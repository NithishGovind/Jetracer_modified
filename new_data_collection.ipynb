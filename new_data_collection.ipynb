{
 "cells": [
  {
   "cell_type": "markdown",
   "id": "400358183c2a22e3",
   "metadata": {},
   "source": [
    "# ## Camera"
   ]
  },
  {
   "cell_type": "code",
   "execution_count": null,
   "id": "89e9b0dbf8550631",
   "metadata": {},
   "outputs": [],
   "source": [
    "from jetcam.csi_camera import CSICamera\n",
    "# from jetcam.usb_camera import USBCamera\n",
    "\n",
    "# Initialize the CSI camera with specified width and height\n",
    "camera = CSICamera(width=224, height=224)\n",
    "# Uncomment the line below to use a USB camera instead\n",
    "# camera = USBCamera(width=224, height=224)\n",
    "\n",
    "camera.running = True\n"
   ]
  },
  {
   "cell_type": "markdown",
   "id": "4f98e8dac369f7b9",
   "metadata": {},
   "source": [
    "# ## Task"
   ]
  },
  {
   "cell_type": "code",
   "execution_count": null,
   "id": "725f7b72e7af3837",
   "metadata": {},
   "outputs": [],
   "source": [
    "import torchvision.transforms as transforms\n",
    "from xy_dataset import XYDataset\n",
    "\n",
    "TASK = 'road_following'\n",
    "\n",
    "CATEGORIES = ['apex']\n",
    "\n",
    "DATASETS = ['A', 'B', \"automatic\", \"automatic_mini\", \"automatic_observer\", \"automatic_loop\"]\n",
    "\n",
    "# Define image transformations for data augmentation and normalization\n",
    "TRANSFORMS = transforms.Compose([\n",
    "    transforms.ColorJitter(0.2, 0.2, 0.2, 0.2),\n",
    "    transforms.Resize((224, 224)),\n",
    "    transforms.ToTensor(),\n",
    "    transforms.Normalize([0.485, 0.456, 0.406], [0.229, 0.224, 0.225])\n",
    "])\n",
    "\n",
    "# Load datasets with the specified transformations\n",
    "datasets = {}\n",
    "for name in DATASETS:\n",
    "    datasets[name] = XYDataset(TASK + '_' + name, CATEGORIES, TRANSFORMS, random_hflip=True)\n"
   ]
  },
  {
   "cell_type": "markdown",
   "id": "b238623ae64c18ca",
   "metadata": {},
   "source": [
    "# ## Controller"
   ]
  },
  {
   "cell_type": "code",
   "execution_count": null,
   "id": "baf61838252e832e",
   "metadata": {},
   "outputs": [],
   "source": [
    "import ipywidgets.widgets as widgets\n",
    "\n",
    "# Initialize the controller, replace index with your controller's index if different\n",
    "controller = widgets.Controller(index=0)\n",
    "\n",
    "# Uncomment the line below to display the controller widget\n",
    "# display(controller)\n",
    "print(\"Controller is made!\")\n"
   ]
  },
  {
   "cell_type": "markdown",
   "id": "1788ae58be8cd503",
   "metadata": {},
   "source": [
    "# ## Teleoperations"
   ]
  },
  {
   "cell_type": "code",
   "execution_count": null,
   "id": "4165f658b6672b48",
   "metadata": {},
   "outputs": [],
   "source": [
    "from jetracer.nvidia_racecar import NvidiaRacecar\n",
    "import traitlets\n",
    "\n",
    "# Initialize the racecar and set throttle gain and steering offset\n",
    "car = NvidiaRacecar()\n",
    "\n",
    "\n"
   ]
  },
  {
   "cell_type": "code",
   "execution_count": null,
   "id": "f2296a42",
   "metadata": {},
   "outputs": [],
   "source": [
    "# Import the JoystickController class from the joystick_control.py script\n",
    "from joystick_control import JoystickController\n",
    "\n",
    "# Create an instance of the JoystickController\n",
    "controller = JoystickController()\n",
    "\n",
    "# To update the car based on joystick input, call the update method\n",
    "controller.start()"
   ]
  },
  {
   "cell_type": "markdown",
   "id": "b390c94dcb0e0a0c",
   "metadata": {},
   "source": [
    "# ## Data Widgets"
   ]
  },
  {
   "cell_type": "code",
   "execution_count": null,
   "id": "5e06ceddcc62bb4e",
   "metadata": {},
   "outputs": [],
   "source": [
    "import ipywidgets.widgets as widgets\n",
    "import cv2\n",
    "import ipywidgets\n",
    "import traitlets\n",
    "from IPython.display import display\n",
    "from jetcam.utils import bgr8_to_jpeg\n",
    "from jupyter_clickable_image_widget import ClickableImageWidget\n",
    "\n",
    "# Initialize active dataset\n",
    "dataset = datasets[DATASETS[0]]\n",
    "\n",
    "# Unobserve all callbacks from camera in case we are running this cell for the second time\n",
    "camera.unobserve_all()\n",
    "\n",
    "# Create image preview widget\n",
    "camera_widget = ClickableImageWidget(width=camera.width, height=camera.height)\n",
    "traitlets.dlink((camera, 'value'), (camera_widget, 'value'), transform=bgr8_to_jpeg)\n",
    "\n",
    "# Create data collection widgets\n",
    "dataset_widget = ipywidgets.Dropdown(options=DATASETS, description='Dataset')\n",
    "category_widget = ipywidgets.Dropdown(options=dataset.categories, description='Category')\n",
    "count_widget = ipywidgets.IntText(description='Count')\n",
    "state_widget = ipywidgets.ToggleButtons(options=['stop', 'start'], description='Start Record Data', value='stop')\n",
    "\n",
    "# Manually update counts at initialization\n",
    "count_widget.value = dataset.get_count(category_widget.value)\n",
    "\n",
    "# Sets the active dataset\n",
    "def set_dataset(change):\n",
    "    global dataset\n",
    "    dataset = datasets[change['new']]\n",
    "    count_widget.value = dataset.get_count(category_widget.value)\n",
    "\n",
    "dataset_widget.observe(set_dataset, names='value')\n",
    "\n",
    "# Update counts when we select a new category\n",
    "def update_counts(change):\n",
    "    count_widget.value = dataset.get_count(change['new'])\n",
    "\n",
    "category_widget.observe(update_counts, names='value')\n",
    "\n",
    "# Create sliders for joystick visualization\n",
    "x_slider = widgets.FloatSlider(min=-1.0, max=1.0, step=0.001, description='x (left joystick)')\n",
    "y_slider = widgets.FloatSlider(min=-1.0, max=1.0, step=0.001, description='y (right joystick)', orientation='vertical')\n",
    "\n",
    "# Sets the active dataset\n",
    "def set_dataset(change):\n",
    "    global dataset\n",
    "    dataset = datasets[change['new']]\n",
    "    count_widget.value = dataset.get_count(category_widget.value)\n",
    "\n",
    "dataset_widget.observe(set_dataset, names='value')\n",
    "\n",
    "# Display the data collection widgets\n",
    "display(\n",
    "    ipywidgets.VBox([\n",
    "        ipywidgets.HBox([camera_widget, x_slider, y_slider]),\n",
    "        dataset_widget,\n",
    "        category_widget,\n",
    "        count_widget,\n",
    "        state_widget\n",
    "    ])\n",
    ")\n"
   ]
  },
  {
   "cell_type": "markdown",
   "id": "daee80ed117f5a11",
   "metadata": {},
   "source": [
    "# ## Database for Training Data"
   ]
  },
  {
   "cell_type": "code",
   "execution_count": null,
   "id": "5cf0194170d74677",
   "metadata": {},
   "outputs": [],
   "source": [
    "import sqlite3, datetime\n",
    "\n",
    "# Create a connection to the SQLite database\n",
    "connection = sqlite3.connect('train_database.db')\n",
    "cursor = connection.cursor()\n",
    "\n",
    "# Create a table to store training data\n",
    "cursor.execute('''\n",
    "CREATE TABLE IF NOT EXISTS TrainData (\n",
    "id INTEGER PRIMARY KEY,\n",
    "task TEXT NOT NULL,\n",
    "category TEXT NOT NULL,\n",
    "dataset TEXT NOT NULL,\n",
    "file_name INTEGER NOT NULL,\n",
    "x TEXT NOT NULL,\n",
    "y TEXT NOT NULL,\n",
    "datetime TEXT NOT NULL\n",
    ")\n",
    "''')\n",
    "\n",
    "# Save changes and close the connection\n",
    "connection.commit()\n",
    "connection.close()\n"
   ]
  },
  {
   "cell_type": "markdown",
   "id": "552dbc6845a7aef6",
   "metadata": {},
   "source": [
    "# ## Automatic Data Collection using Observer Pattern"
   ]
  },
  {
   "cell_type": "code",
   "execution_count": null,
   "id": "1e5d7466b2fa952e",
   "metadata": {},
   "outputs": [],
   "source": [
    "import datetime\n",
    "import sqlite3\n",
    "\n",
    "# Create a connection to the SQLite database\n",
    "connection = sqlite3.connect('train_database.db')\n",
    "cursor = connection.cursor()\n",
    "\n",
    "# Callback function to handle data recording when controller axes change\n",
    "def call_back_for_observer_axes(change):\n",
    "    if change['new']:\n",
    "        x = controller.axes[0].value\n",
    "        y = controller.axes[3].value * -1\n",
    "        x_slider.value = x\n",
    "        y_slider.value = y\n",
    "\n",
    "        # Save to disk\n",
    "        filename = dataset.save_entry(category_widget.value, camera.value, x, y)\n",
    "\n",
    "        # Insert a new row of data into the database\n",
    "        cursor.execute('INSERT INTO TrainData (task, category, dataset, file_name, x, y, datetime) VALUES (?, ?, ?, ?, ?, ?, ?)',\n",
    "                       (\n",
    "                           TASK, # Task name\n",
    "                           category_widget.value, # Category\n",
    "                           dataset_widget.value, # Dataset name\n",
    "                           filename, # Filename\n",
    "                           str(x), # X-coordinate\n",
    "                           str(y), # Y-coordinate \n",
    "                           datetime.datetime.now(), # Timestamp\n",
    "                       )\n",
    "                       )\n",
    "\n",
    "        # Save changes to the SQLite database\n",
    "        connection.commit()\n",
    "\n",
    "        count_widget.value = dataset.get_count(category_widget.value)\n",
    "\n",
    "# Observe changes in controller axes\n",
    "controller.axes[0].observe(call_back_for_observer_axes, names='value')\n",
    "controller.axes[3].observe(call_back_for_observer_axes, names='value')\n"
   ]
  },
  {
   "cell_type": "markdown",
   "id": "ffdd8cd02dc76847",
   "metadata": {},
   "source": [
    "# ## Automatic Data Collection in a Loop with a Dedicated Thread"
   ]
  },
  {
   "cell_type": "code",
   "execution_count": null,
   "id": "7ec744c69a9ed21a",
   "metadata": {},
   "outputs": [],
   "source": [
    "import threading\n",
    "import time\n",
    "import datetime\n",
    "import sqlite3\n",
    "\n",
    "# Function to record data in a loop\n",
    "def loop_func_record_data(state_widget, controller, dataset, x_slider, y_slider, count_widget, task, category_widget, dataset_widget):\n",
    "    # Create a connection to the SQLite database\n",
    "    connection = sqlite3.connect('train_database.db')\n",
    "    cursor = connection.cursor()\n",
    "\n",
    "    while state_widget.value == \"start\":\n",
    "        time.sleep(0.1) # Delay to reduce frame rate\n",
    "        x = controller.axes[0].value\n",
    "        y = controller.axes[3].value * -1\n",
    "        x_slider.value = x\n",
    "        y_slider.value = y\n",
    "\n",
    "        # Save to disk   \n",
    "        filename = dataset.save_entry(category_widget.value, camera.value, x, y)\n",
    "\n",
    "        # Insert a new row of data into the database\n",
    "        cursor.execute('INSERT INTO TrainData (task, category, dataset, file_name, x, y, datetime) VALUES (?, ?, ?, ?, ?, ?, ?)',\n",
    "                       (\n",
    "                           task, # Task name\n",
    "                           category_widget.value, # Category\n",
    "                           dataset_widget.value, # Dataset name\n",
    "                           filename, # Filename\n",
    "                           str(x), # X-coordinate\n",
    "                           str(y), # Y-coordinate \n",
    "                           datetime.datetime.now(), # Timestamp\n",
    "                       )\n",
    "                       )\n",
    "\n",
    "        # Save changes to the SQLite database\n",
    "        connection.commit()\n",
    "\n",
    "        count_widget.value = dataset.get_count(category_widget.value)\n",
    "\n",
    "# Function to start the data recording loop in a new thread\n",
    "def start_live(change):\n",
    "    if change['new'] == 'start':\n",
    "        execute_thread = threading.Thread(target=loop_func_record_data,\n",
    "                                          args=(state_widget, controller, dataset, x_slider, y_slider, count_widget, TASK, category_widget, dataset_widget))\n",
    "        execute_thread.start()\n",
    "\n",
    "# Observe changes in the state widget to start/stop data recording\n",
    "state_widget.observe(start_live, names='value')\n"
   ]
  }
 ],
 "metadata": {
  "kernelspec": {
   "display_name": "Python 3",
   "language": "python",
   "name": "python3"
  },
  "language_info": {
   "codemirror_mode": {
    "name": "ipython",
    "version": 2
   },
   "file_extension": ".py",
   "mimetype": "text/x-python",
   "name": "python",
   "nbconvert_exporter": "python",
   "pygments_lexer": "ipython2",
   "version": "2.7.6"
  }
 },
 "nbformat": 4,
 "nbformat_minor": 5
}
